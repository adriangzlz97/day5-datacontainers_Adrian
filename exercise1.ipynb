{
 "cells": [
  {
   "cell_type": "markdown",
   "id": "fb15d395",
   "metadata": {},
   "source": [
    "Question a"
   ]
  },
  {
   "cell_type": "code",
   "execution_count": 26,
   "id": "28e59525",
   "metadata": {},
   "outputs": [],
   "source": [
    "import numpy as np\n",
    "\n",
    "matrix = np.array([[1, -2, 3],\n",
    " [4, 5, 6],\n",
    " [7, 3, 9]])\n"
   ]
  },
  {
   "cell_type": "code",
   "execution_count": 27,
   "id": "d97d9502",
   "metadata": {},
   "outputs": [
    {
     "data": {
      "text/plain": [
       "-54.0"
      ]
     },
     "execution_count": 27,
     "metadata": {},
     "output_type": "execute_result"
    }
   ],
   "source": [
    "linalg.det(matrix)"
   ]
  },
  {
   "cell_type": "markdown",
   "id": "e5816402",
   "metadata": {},
   "source": [
    "Question b"
   ]
  },
  {
   "cell_type": "code",
   "execution_count": 3,
   "id": "a08ee217",
   "metadata": {},
   "outputs": [],
   "source": [
    "vector = np.array([1, 2, 3])"
   ]
  },
  {
   "cell_type": "markdown",
   "id": "83f8d5f0",
   "metadata": {},
   "source": [
    "Question c"
   ]
  },
  {
   "cell_type": "code",
   "execution_count": 28,
   "id": "e6bd0e35",
   "metadata": {},
   "outputs": [],
   "source": [
    "from scipy import linalg\n",
    "res = linalg.solve(matrix,vector)"
   ]
  },
  {
   "cell_type": "markdown",
   "id": "23726011",
   "metadata": {},
   "source": [
    "Question d"
   ]
  },
  {
   "cell_type": "code",
   "execution_count": 5,
   "id": "203bbcd2",
   "metadata": {},
   "outputs": [
    {
     "data": {
      "text/plain": [
       "array([1., 2., 3.])"
      ]
     },
     "execution_count": 5,
     "metadata": {},
     "output_type": "execute_result"
    }
   ],
   "source": [
    "np.dot(matrix,res)"
   ]
  },
  {
   "cell_type": "markdown",
   "id": "1f060bce",
   "metadata": {},
   "source": [
    "Question e"
   ]
  },
  {
   "cell_type": "code",
   "execution_count": 29,
   "id": "608a741e",
   "metadata": {},
   "outputs": [
    {
     "name": "stdout",
     "output_type": "stream",
     "text": [
      "[[2 2 4]\n",
      " [1 2 1]\n",
      " [1 1 1]]\n"
     ]
    },
    {
     "data": {
      "text/plain": [
       "array([[2., 2., 4.],\n",
       "       [1., 2., 1.],\n",
       "       [1., 1., 1.]])"
      ]
     },
     "execution_count": 29,
     "metadata": {},
     "output_type": "execute_result"
    }
   ],
   "source": [
    "matrixb = np.random.randint(0,5,(3,3))\n",
    "print(matrixb)\n",
    "resb = linalg.solve(matrix,matrixb)\n",
    "np.dot(matrix,resb)"
   ]
  },
  {
   "cell_type": "markdown",
   "id": "bc2d0c5a",
   "metadata": {},
   "source": [
    "Question f"
   ]
  },
  {
   "cell_type": "code",
   "execution_count": 14,
   "id": "3f12a26b",
   "metadata": {},
   "outputs": [
    {
     "name": "stdout",
     "output_type": "stream",
     "text": [
      "[ 1.61168440e+01+0.j -1.11684397e+00+0.j -4.22209278e-16+0.j]\n",
      "[[-0.23197069 -0.78583024  0.40824829]\n",
      " [-0.52532209 -0.08675134 -0.81649658]\n",
      " [-0.8186735   0.61232756  0.40824829]]\n"
     ]
    }
   ],
   "source": [
    "values, vector = linalg.eig(matrix)\n",
    "print(values)\n",
    "print(vector)"
   ]
  },
  {
   "cell_type": "markdown",
   "id": "b601eeec",
   "metadata": {},
   "source": [
    "Question g"
   ]
  },
  {
   "cell_type": "code",
   "execution_count": 31,
   "id": "0a05dd68",
   "metadata": {},
   "outputs": [
    {
     "name": "stdout",
     "output_type": "stream",
     "text": [
      "[[-0.5        -0.5         0.5       ]\n",
      " [-0.11111111  0.22222222 -0.11111111]\n",
      " [ 0.42592593  0.31481481 -0.24074074]]\n"
     ]
    }
   ],
   "source": [
    "matrix_inv = linalg.inv(matrix)\n",
    "print(matrix_inv)"
   ]
  },
  {
   "cell_type": "markdown",
   "id": "2b62bdfb",
   "metadata": {},
   "source": [
    "Question h"
   ]
  },
  {
   "cell_type": "code",
   "execution_count": 30,
   "id": "16aea1a0",
   "metadata": {},
   "outputs": [
    {
     "name": "stdout",
     "output_type": "stream",
     "text": [
      "15.165750888103101\n",
      "14.636945300837017\n",
      "10.0\n",
      "0.9576017627507012\n"
     ]
    }
   ],
   "source": [
    "print(linalg.norm(matrix))\n",
    "print(linalg.norm(matrix,2))\n",
    "print(linalg.norm(matrix,-1))\n",
    "print(linalg.norm(matrix,-2))"
   ]
  },
  {
   "cell_type": "markdown",
   "id": "f7bcfcad",
   "metadata": {},
   "source": [
    "STATISTICS"
   ]
  },
  {
   "cell_type": "markdown",
   "id": "78602cc9",
   "metadata": {},
   "source": [
    "Question a"
   ]
  },
  {
   "cell_type": "markdown",
   "id": "06aa6b37",
   "metadata": {},
   "source": [
    "a. Create a discrete random variable with poissonian distribution and plot its probability mass function (PMF), cummulative distribution function (CDF) and a histogram of 1000 random realizations of the variable"
   ]
  },
  {
   "cell_type": "code",
   "execution_count": null,
   "id": "2abfe453",
   "metadata": {},
   "outputs": [],
   "source": []
  }
 ],
 "metadata": {
  "kernelspec": {
   "display_name": "Python 3 (ipykernel)",
   "language": "python",
   "name": "python3"
  },
  "language_info": {
   "codemirror_mode": {
    "name": "ipython",
    "version": 3
   },
   "file_extension": ".py",
   "mimetype": "text/x-python",
   "name": "python",
   "nbconvert_exporter": "python",
   "pygments_lexer": "ipython3",
   "version": "3.9.13"
  }
 },
 "nbformat": 4,
 "nbformat_minor": 5
}
